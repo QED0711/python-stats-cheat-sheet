{
 "cells": [
  {
   "cell_type": "code",
   "execution_count": 24,
   "metadata": {
    "ExecuteTime": {
     "end_time": "2020-09-25T10:05:38.912640Z",
     "start_time": "2020-09-25T10:05:38.910515Z"
    }
   },
   "outputs": [],
   "source": [
    "import requests\n",
    "import json\n",
    "\n",
    "import os\n",
    "\n",
    "import pandas as pd"
   ]
  },
  {
   "cell_type": "code",
   "execution_count": 27,
   "metadata": {
    "ExecuteTime": {
     "end_time": "2020-09-25T10:07:29.648155Z",
     "start_time": "2020-09-25T10:07:29.575805Z"
    }
   },
   "outputs": [],
   "source": [
    "def load_and_save(file):\n",
    "    \n",
    "    file_name = file.split('.')[0]\n",
    "    \n",
    "    with open(file, 'r') as json_file:\n",
    "        data = json.load(json_file)\n",
    "        \n",
    "    with open(f\"{file_name}-formatted.json\", 'w') as formatted:\n",
    "        json.dump(data, formatted)\n",
    "\n",
    "def formatJSON():\n",
    "    \n",
    "    for _, _, files in os.walk('.'):\n",
    "        for file in files:\n",
    "            if (\".json\" in file) and not ('formatted.json' in file):\n",
    "                load_and_save(file)\n",
    "        \n",
    "formatJSON()"
   ]
  }
 ],
 "metadata": {
  "kernelspec": {
   "display_name": "Python 3",
   "language": "python",
   "name": "python3"
  },
  "language_info": {
   "codemirror_mode": {
    "name": "ipython",
    "version": 3
   },
   "file_extension": ".py",
   "mimetype": "text/x-python",
   "name": "python",
   "nbconvert_exporter": "python",
   "pygments_lexer": "ipython3",
   "version": "3.8.2"
  }
 },
 "nbformat": 4,
 "nbformat_minor": 4
}
